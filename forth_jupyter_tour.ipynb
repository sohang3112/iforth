{
 "cells": [
  {
   "cell_type": "code",
   "execution_count": 2,
   "metadata": {},
   "outputs": [
    {
     "data": {
      "text/html": [
       "<pre>3 4 + .<b> 7  ok\n",
       "</b></pre>"
      ]
     },
     "metadata": {},
     "output_type": "display_data"
    }
   ],
   "source": [
    "3 4 + ."
   ]
  },
  {
   "cell_type": "code",
   "execution_count": null,
   "metadata": {},
   "outputs": [],
   "source": []
  }
 ],
 "metadata": {
  "kernelspec": {
   "display_name": "IForth",
   "language": "Forth",
   "name": "forth"
  },
  "language_info": {
   "file_extension": ".4th",
   "mimetype": "text",
   "name": "forth",
   "version": "0.3"
  }
 },
 "nbformat": 4,
 "nbformat_minor": 4
}
