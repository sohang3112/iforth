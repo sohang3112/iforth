{
 "cells": [
  {
   "cell_type": "code",
   "execution_count": null,
   "metadata": {},
   "outputs": [],
   "source": [
    "!wget https://raw.githubusercontent.com/sohang3112/iforth/refs/heads/master/colab_setup_forth_kernel.sh\n",
    "!bash colab_setup_forth_kernel.sh"
   ]
  },
  {
   "cell_type": "code",
   "execution_count": 1,
   "metadata": {},
   "outputs": [
    {
     "name": "stdout",
     "output_type": "stream",
     "text": [
      "3 4 + . 7  ok\n",
      "\n"
     ]
    }
   ],
   "source": [
    "3 4 + ."
   ]
  },
  {
   "cell_type": "code",
   "execution_count": null,
   "metadata": {},
   "outputs": [
    {
     "name": "stdout",
     "output_type": "stream",
     "text": [
      "equal code[0:18] output[0:18] ----------- '.\" Hello World\" cr'\n",
      "insert code[18:18] output[18:34] ----------- ' Hello World\\n ok'\n",
      "equal code[18:26] output[34:42] ----------- '\\n1 2 + .'\n",
      "insert code[26:26] output[42:48] ----------- ' 3  ok'\n"
     ]
    }
   ],
   "source": [
    "from difflib import SequenceMatcher\n",
    "\n",
    "code = \"\"\".\" Hello World\" cr\n",
    "1 2 + .\"\"\"\n",
    "\n",
    "output = \"\"\".\" Hello World\" cr Hello World\n",
    " ok\n",
    "1 2 + . 3  ok\"\"\"\n",
    "\n",
    "s = SequenceMatcher(None, code, output)\n",
    "for tag, i1, i2, j1, j2 in s.get_opcodes():\n",
    "    print(f'{tag} code[{i1}:{i2}] output[{j1}:{j2}] ----------- {output[j1:j2]!r}')"
   ]
  },
  {
   "cell_type": "code",
   "execution_count": 11,
   "metadata": {},
   "outputs": [
    {
     "data": {
      "text/plain": [
       "['- .\" Hello World\" cr',\n",
       " '+ .\" Hello World\" cr Hello World',\n",
       " '?                   ++++++++++++\\n',\n",
       " '- 1 2 + .',\n",
       " '+  ok',\n",
       " '+ 1 2 + . 3  ok']"
      ]
     },
     "execution_count": 11,
     "metadata": {},
     "output_type": "execute_result"
    }
   ],
   "source": [
    "import difflib\n",
    "list(difflib.ndiff(code.splitlines(), output.splitlines()))"
   ]
  },
  {
   "cell_type": "code",
   "execution_count": 3,
   "metadata": {},
   "outputs": [],
   "source": [
    "import subprocess\n",
    "import threading\n",
    "from queue import Queue, Empty\n",
    "\n",
    "# def enqueue_output(stream, output_type):\n",
    "#     \"\"\" Reads the output in real-time and prints it. \"\"\"\n",
    "#     gforth_streams[output_type] = stream\n",
    "#     for line in iter(stream.readline, ''):\n",
    "#         print(f\"{output_type}: {line!r}\")\n",
    "\n",
    "class GForth:\n",
    "    def __init__(self):\n",
    "        self.process = subprocess.Popen(\n",
    "            [\"gforth\"],\n",
    "            stdin=subprocess.PIPE,\n",
    "            stdout=subprocess.PIPE,\n",
    "            stderr=subprocess.PIPE,\n",
    "            text=True,  # Ensures strings instead of bytes\n",
    "            bufsize=1,  # Line buffering\n",
    "            universal_newlines=True  # Makes sure text mode is used for both input and output\n",
    "        )\n",
    "\n",
    "        # self.stdout_queue = Queue()\n",
    "        # self.stderr_queue = Queue()\n",
    "        # self.stdout_thread = threading.Thread(target=enqueue_output, args=(process.stdout, self.stdout_queue), daemon=True)\n",
    "        # self.stderr_thread = threading.Thread(target=enqueue_output, args=(process.stderr, self.stderr_queue), daemon=True)\n",
    "        # self.stdout_thread.start()\n",
    "        # self.stderr_thread.start()\n",
    "\n",
    "gforth = GForth()\n",
    "code = \"\"\".\" Starting Program...\" cr\n",
    "    VARIABLE x\n",
    "    10 x !\n",
    "    x @ 1+ .\n",
    "    .\n",
    "    bye\n",
    "\"\"\"\n",
    "stdout, stderr = gforth.process.communicate(code, timeout=10)\n",
    "# for cmd in code.splitlines():\n",
    "#     gforth.process.stdin.write(cmd + \"\\n\")\n",
    "    # process.stdin.flush()  # Ensure the input is sent immediately\n",
    "\n",
    "# # Wait for the process to complete\n",
    "# process.wait()\n"
   ]
  },
  {
   "cell_type": "code",
   "execution_count": 8,
   "metadata": {},
   "outputs": [
    {
     "data": {
      "text/plain": [
       "0"
      ]
     },
     "execution_count": 8,
     "metadata": {},
     "output_type": "execute_result"
    }
   ],
   "source": [
    "gforth.process.poll()"
   ]
  },
  {
   "cell_type": "code",
   "execution_count": 10,
   "metadata": {},
   "outputs": [
    {
     "name": "stdout",
     "output_type": "stream",
     "text": [
      "Gforth 0.7.3, Copyright (C) 1995-2008 Free Software Foundation, Inc.\n",
      "\n",
      "Gforth comes with ABSOLUTELY NO WARRANTY; for details type `license'\n",
      "\n",
      "Type `bye' to exit\n",
      "\n"
     ]
    },
    {
     "ename": "KeyboardInterrupt",
     "evalue": "",
     "output_type": "error",
     "traceback": [
      "\u001b[0;31m---------------------------------------------------------------------------\u001b[0m",
      "\u001b[0;31mKeyboardInterrupt\u001b[0m                         Traceback (most recent call last)",
      "Cell \u001b[0;32mIn[10], line 13\u001b[0m\n\u001b[1;32m     11\u001b[0m \u001b[38;5;28mprint\u001b[39m(process\u001b[38;5;241m.\u001b[39mstdout\u001b[38;5;241m.\u001b[39mreadline())\n\u001b[1;32m     12\u001b[0m \u001b[38;5;28mprint\u001b[39m(process\u001b[38;5;241m.\u001b[39mstdout\u001b[38;5;241m.\u001b[39mreadline())\n\u001b[0;32m---> 13\u001b[0m \u001b[38;5;28mprint\u001b[39m(\u001b[43mprocess\u001b[49m\u001b[38;5;241;43m.\u001b[39;49m\u001b[43mstdout\u001b[49m\u001b[38;5;241;43m.\u001b[39;49m\u001b[43mreadline\u001b[49m\u001b[43m(\u001b[49m\u001b[43m)\u001b[49m)\n",
      "\u001b[0;31mKeyboardInterrupt\u001b[0m: "
     ]
    }
   ],
   "source": [
    "process = subprocess.Popen(\n",
    "    [\"gforth\"],\n",
    "    stdin=subprocess.PIPE,\n",
    "    stdout=subprocess.PIPE,\n",
    "    stderr=subprocess.PIPE,\n",
    "    text=True,  # Ensures strings instead of bytes\n",
    "    bufsize=1,  # Line buffering\n",
    "    universal_newlines=True  # Makes sure text mode is used for both input and output\n",
    ")\n",
    "print(process.stdout.readline())\n",
    "print(process.stdout.readline())\n",
    "print(process.stdout.readline())\n",
    "print(process.stdout.readline())"
   ]
  },
  {
   "cell_type": "code",
   "execution_count": null,
   "metadata": {},
   "outputs": [],
   "source": []
  }
 ],
 "metadata": {
  "kernelspec": {
   "display_name": "IForth",
   "language": "Forth",
   "name": "forth"
  },
  "language_info": {
   "file_extension": ".4th",
   "mimetype": "text",
   "name": "forth",
   "version": "Gforth 0.7.3"
  }
 },
 "nbformat": 4,
 "nbformat_minor": 4
}
